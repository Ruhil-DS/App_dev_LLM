{
 "cells": [
  {
   "cell_type": "markdown",
   "id": "4c8344ce-e5cd-44c5-b8c4-de796f778a9e",
   "metadata": {},
   "source": [
    "# LangChain: Evaluation\n",
    "## Outline:\n",
    "\n",
    "* Example generation\n",
    "* Manual evaluation (and debuging)\n",
    "* LLM-assisted evaluation\n",
    "* LangChain evaluation platform"
   ]
  },
  {
   "cell_type": "markdown",
   "id": "cb5bf175-dbcf-4cf1-adcc-cae970faef2b",
   "metadata": {},
   "source": [
    "# Initial Setup"
   ]
  },
  {
   "cell_type": "code",
   "execution_count": 2,
   "id": "aac39c4f-21e7-4573-9f0e-94493bb43ed7",
   "metadata": {
    "tags": []
   },
   "outputs": [],
   "source": [
    "# API Key setup\n",
    "import os\n",
    "\n",
    "api = !cat ../`ls -a ../ | grep \"gemini\"`\n",
    "\n",
    "api = api[0]\n",
    "\n",
    "os.environ['GOOGLE_API_KEY'] = api\n",
    "# universal variable, used by langchain"
   ]
  },
  {
   "cell_type": "markdown",
   "id": "5ab34f08-86be-4b06-a144-e729fd3ceffa",
   "metadata": {},
   "source": [
    "# Creating a Q&A Application\n",
    "## Knowledge to test\n",
    "- learnt in the last module"
   ]
  },
  {
   "cell_type": "code",
   "execution_count": 26,
   "id": "0599a88f-1efc-4215-84ff-d827268843d7",
   "metadata": {
    "tags": []
   },
   "outputs": [],
   "source": [
    "from langchain_google_genai import ChatGoogleGenerativeAI\n",
    "from langchain_google_genai.embeddings import GoogleGenerativeAIEmbeddings\n",
    "from langchain.chains import RetrievalQA\n",
    "from langchain.document_loaders import CSVLoader\n",
    "from langchain.vectorstores import DocArrayInMemorySearch"
   ]
  },
  {
   "cell_type": "code",
   "execution_count": 4,
   "id": "ad74e216-6982-4fd8-a620-7eadd623252d",
   "metadata": {
    "tags": []
   },
   "outputs": [],
   "source": [
    "loader = CSVLoader(\"L4_data.csv\")"
   ]
  },
  {
   "cell_type": "code",
   "execution_count": 12,
   "id": "5d6696ab-8ab7-4fa6-8c65-df97e64dbc5e",
   "metadata": {
    "tags": []
   },
   "outputs": [],
   "source": [
    "embeddings = GoogleGenerativeAIEmbeddings(model=\"models/embedding-001\")"
   ]
  },
  {
   "cell_type": "code",
   "execution_count": 18,
   "id": "745e4bde-31bf-47b1-8d78-2eb84595948c",
   "metadata": {
    "tags": []
   },
   "outputs": [],
   "source": [
    "llm = ChatGoogleGenerativeAI(model=\"gemini-pro\",\n",
    "                             temperature=0.2,\n",
    "                             convert_system_message_to_human=True)"
   ]
  },
  {
   "cell_type": "code",
   "execution_count": 10,
   "id": "387a94b9-8f55-4806-ac0d-cfeb47cfff68",
   "metadata": {
    "tags": []
   },
   "outputs": [],
   "source": [
    "docs = loader.load()"
   ]
  },
  {
   "cell_type": "code",
   "execution_count": 13,
   "id": "1d3bfe45-e698-4969-be2f-94d0b0c1f8d8",
   "metadata": {
    "tags": []
   },
   "outputs": [],
   "source": [
    "db = DocArrayInMemorySearch.from_documents(\n",
    "    documents=docs,\n",
    "    embedding=embeddings\n",
    ")"
   ]
  },
  {
   "cell_type": "code",
   "execution_count": 15,
   "id": "78a99169-aa0e-49a7-84e6-a45dbafb52ab",
   "metadata": {
    "tags": []
   },
   "outputs": [],
   "source": [
    "retriever = db.as_retriever()"
   ]
  },
  {
   "cell_type": "code",
   "execution_count": 35,
   "id": "fff7f986-adc3-4028-a006-9ba5830a058f",
   "metadata": {
    "tags": []
   },
   "outputs": [],
   "source": [
    "qa_app = RetrievalQA.from_chain_type(llm=llm,\n",
    "                            chain_type='stuff',\n",
    "                            retriever=retriever, # interface for fetching documents\n",
    "                            verbose=True,\n",
    "                            chain_type_kwargs = {\n",
    "                                \"document_separator\": \"<<<<<<<>>>>>>>\"\n",
    "                            }\n",
    "\n",
    "                           )"
   ]
  },
  {
   "cell_type": "code",
   "execution_count": 36,
   "id": "d42e7d96-c8ce-4611-8345-4be65095d3a0",
   "metadata": {
    "tags": []
   },
   "outputs": [
    {
     "name": "stdout",
     "output_type": "stream",
     "text": [
      "\n",
      "\n",
      "\u001b[1m> Entering new RetrievalQA chain...\u001b[0m\n",
      "\n",
      "\u001b[1m> Finished chain.\u001b[0m\n"
     ]
    }
   ],
   "source": [
    "resp = qa_app.invoke(\"Please list all your shirts with sun protection \\\n",
    "in a table in markdown and summarize each one\")"
   ]
  },
  {
   "cell_type": "code",
   "execution_count": 37,
   "id": "3b661121-29e3-4d2b-83a1-777886218028",
   "metadata": {
    "tags": []
   },
   "outputs": [],
   "source": [
    "from IPython.display import display, Markdown"
   ]
  },
  {
   "cell_type": "code",
   "execution_count": 38,
   "id": "bba83661-a723-42e8-ac1a-dfce3147b0c8",
   "metadata": {
    "tags": []
   },
   "outputs": [
    {
     "data": {
      "text/plain": [
       "dict_keys(['query', 'result'])"
      ]
     },
     "execution_count": 38,
     "metadata": {},
     "output_type": "execute_result"
    }
   ],
   "source": [
    "resp.keys()"
   ]
  },
  {
   "cell_type": "code",
   "execution_count": 39,
   "id": "e6baf4ce-1071-4575-ad29-1f66e3d51dab",
   "metadata": {
    "tags": []
   },
   "outputs": [
    {
     "data": {
      "text/markdown": [
       "| Name | Description |\n",
       "|---|---|\n",
       "| Sun Shield Shirt | Blocks 98% of the sun's harmful rays, UPF 50+ rated, wicks moisture, fits comfortably over your favorite swimsuit, abrasion resistant |\n",
       "| Women's Tropical Tee, Sleeveless | Blocks 98% of the sun's harmful rays, UPF 50+ rated, wrinkle resistant, low-profile pockets and side shaping offer a more flattering fit, front and back cape venting, two front pockets, tool tabs and eyewear loop |\n",
       "| Men's Tropical Plaid Short-Sleeve Shirt | Blocks 98% of the sun's harmful rays, UPF 50+ rated, wrinkle-resistant, front and back cape venting, two front bellows pockets |\n",
       "| Men's TropicVibe Shirt, Short-Sleeve | Blocks 98% of the sun's harmful rays, UPF 50+ rated, wrinkle resistant, front and back cape venting, two front bellows pockets |"
      ],
      "text/plain": [
       "<IPython.core.display.Markdown object>"
      ]
     },
     "metadata": {},
     "output_type": "display_data"
    }
   ],
   "source": [
    "display(Markdown(resp['result']))"
   ]
  },
  {
   "cell_type": "markdown",
   "id": "c16febaf-d25d-4aca-ba27-18377b70b8d8",
   "metadata": {},
   "source": [
    "# Coming up with test datapoints\n",
    "\n",
    "- This can be used to create out own evaluation points"
   ]
  },
  {
   "cell_type": "code",
   "execution_count": 41,
   "id": "43a95550-35aa-436e-90c9-2b9322ac7af3",
   "metadata": {
    "tags": []
   },
   "outputs": [
    {
     "data": {
      "text/plain": [
       "Document(page_content=\": 10\\nname: Cozy Comfort Pullover Set, Stripe\\ndescription: Perfect for lounging, this striped knit set lives up to its name. We used ultrasoft fabric and an easy design that's as comfortable at bedtime as it is when we have to make a quick run out.\\n\\nSize & Fit\\n- Pants are Favorite Fit: Sits lower on the waist.\\n- Relaxed Fit: Our most generous fit sits farthest from the body.\\n\\nFabric & Care\\n- In the softest blend of 63% polyester, 35% rayon and 2% spandex.\\n\\nAdditional Features\\n- Relaxed fit top with raglan sleeves and rounded hem.\\n- Pull-on pants have a wide elastic waistband and drawstring, side pockets and a modern slim leg.\\n\\nImported.\", metadata={'source': 'L4_data.csv', 'row': 10})"
      ]
     },
     "execution_count": 41,
     "metadata": {},
     "output_type": "execute_result"
    }
   ],
   "source": [
    "# Looking at a few dpoints. \n",
    "# They will be used to hard-code examples\n",
    "docs[10]"
   ]
  },
  {
   "cell_type": "code",
   "execution_count": 31,
   "id": "a99f6f34-4edf-4af9-a874-df805edefc7c",
   "metadata": {
    "tags": []
   },
   "outputs": [
    {
     "data": {
      "text/plain": [
       "Document(page_content=': 11\\nname: Ultra-Lofty 850 Stretch Down Hooded Jacket\\ndescription: This technical stretch down jacket from our DownTek collection is sure to keep you warm and comfortable with its full-stretch construction providing exceptional range of motion. With a slightly fitted style that falls at the hip and best with a midweight layer, this jacket is suitable for light activity up to 20° and moderate activity up to -30°. The soft and durable 100% polyester shell offers complete windproof protection and is insulated with warm, lofty goose down. Other features include welded baffles for a no-stitch construction and excellent stretch, an adjustable hood, an interior media port and mesh stash pocket and a hem drawcord. Machine wash and dry. Imported.', metadata={'source': 'L4_data.csv', 'row': 11})"
      ]
     },
     "execution_count": 31,
     "metadata": {},
     "output_type": "execute_result"
    }
   ],
   "source": [
    "docs[11]"
   ]
  },
  {
   "cell_type": "markdown",
   "id": "bc7962e5-e87c-4c43-bf68-b89d3d422a85",
   "metadata": {},
   "source": [
    "## hard-coded examples\n",
    "\n",
    "- Doesn't scale well"
   ]
  },
  {
   "cell_type": "code",
   "execution_count": 86,
   "id": "ea02c120-a7f1-4311-a8aa-4b0d420b0ba3",
   "metadata": {
    "tags": []
   },
   "outputs": [],
   "source": [
    "examples = [\n",
    "    {\n",
    "        \"query\": \"Do the cozy comfortable \\\n",
    "        pullover set have side pockets?\",\n",
    "        \n",
    "        \"answer\": \"Yes\"\n",
    "    },\n",
    "    {\n",
    "        \"query\": \"What collection is the Ultra-Lofty \\\n",
    "        850 Stretch Down Hooded Jacket from?\",\n",
    "        \n",
    "        \"answer\": \"The DownTek Collection\"\n",
    "    }\n",
    "]"
   ]
  },
  {
   "cell_type": "markdown",
   "id": "097472ca-dda6-43db-b865-f5d2d5a1e902",
   "metadata": {},
   "source": [
    "# LLM-Generated Examples\n",
    "\n",
    "- Use the llm itself to create evaluation examples"
   ]
  },
  {
   "cell_type": "code",
   "execution_count": 43,
   "id": "14015971-5924-4260-8655-5b5da4169ea3",
   "metadata": {
    "tags": []
   },
   "outputs": [],
   "source": [
    "from langchain.evaluation.qa import QAGenerateChain"
   ]
  },
  {
   "cell_type": "code",
   "execution_count": 44,
   "id": "439fd0eb-eeb8-4bd8-a907-2c0790ed3fb9",
   "metadata": {
    "tags": []
   },
   "outputs": [],
   "source": [
    "example_gen_chain = QAGenerateChain.from_llm(llm)"
   ]
  },
  {
   "cell_type": "code",
   "execution_count": 67,
   "id": "8a5d5508-672e-45fd-81da-6c84676a85a8",
   "metadata": {
    "tags": []
   },
   "outputs": [],
   "source": [
    "new_examples = example_gen_chain.apply(\n",
    "    [{\"doc\": t} for t in docs[:5]]\n",
    ")"
   ]
  },
  {
   "cell_type": "code",
   "execution_count": 87,
   "id": "c12b2c06-de6e-4e17-9421-fdc4e023e1ef",
   "metadata": {
    "tags": []
   },
   "outputs": [],
   "source": [
    "for i in range(len(new_examples)):\n",
    "    examples.append(new_examples[i]['qa_pairs'])\n"
   ]
  },
  {
   "cell_type": "code",
   "execution_count": 88,
   "id": "6fbc8975-fccc-4023-887e-3e37c5dcdc88",
   "metadata": {
    "tags": []
   },
   "outputs": [
    {
     "data": {
      "text/plain": [
       "[{'query': 'Do the cozy comfortable         pullover set have side pockets?',\n",
       "  'answer': 'Yes'},\n",
       " {'query': 'What collection is the Ultra-Lofty         850 Stretch Down Hooded Jacket from?',\n",
       "  'answer': 'The DownTek Collection'},\n",
       " {'query': \"What is the approximate weight of a pair of Women's Campside Oxfords?\",\n",
       "  'answer': '1 lb. 1 oz.'},\n",
       " {'query': 'What are the dimensions of the small Recycled Waterhog Dog Mat?',\n",
       "  'answer': '18\" x 28\"'},\n",
       " {'query': 'What is the sun protection rating of the swimsuit fabric?',\n",
       "  'answer': 'UPF 50+'},\n",
       " {'query': 'What is the fabric composition of the Refresh Swimwear, V-Neck Tankini Contrasts?',\n",
       "  'answer': 'The body of the tankini is made of 82% recycled nylon with 18% Lycra® spandex, while the lining is made of 90% recycled nylon with 10% Lycra® spandex.'},\n",
       " {'query': 'What is the name of the new technology used in these pants?',\n",
       "  'answer': 'TEK O2'}]"
      ]
     },
     "execution_count": 88,
     "metadata": {},
     "output_type": "execute_result"
    }
   ],
   "source": [
    "examples"
   ]
  },
  {
   "cell_type": "code",
   "execution_count": 89,
   "id": "4f4ba6cf-51eb-4d4b-871a-92e4c8cb0a74",
   "metadata": {
    "tags": []
   },
   "outputs": [
    {
     "name": "stdout",
     "output_type": "stream",
     "text": [
      "\n",
      "\n",
      "\u001b[1m> Entering new RetrievalQA chain...\u001b[0m\n",
      "\n",
      "\u001b[1m> Finished chain.\u001b[0m\n"
     ]
    },
    {
     "data": {
      "text/plain": [
       "{'query': 'Do the cozy comfortable         pullover set have side pockets?',\n",
       " 'result': \"I don't know. The provided text does not mention whether the cozy comfortable pullover set has side pockets.\"}"
      ]
     },
     "execution_count": 89,
     "metadata": {},
     "output_type": "execute_result"
    }
   ],
   "source": [
    "qa_app.invoke(examples[0]['query'])"
   ]
  },
  {
   "cell_type": "markdown",
   "id": "6cc345c4-4366-439e-8700-90451c0a4a88",
   "metadata": {},
   "source": [
    "# Manual Evaluation"
   ]
  },
  {
   "cell_type": "code",
   "execution_count": 90,
   "id": "760fe0c9-f835-4e2c-be8f-d44388f03126",
   "metadata": {
    "tags": []
   },
   "outputs": [],
   "source": [
    "import langchain\n",
    "\n",
    "langchain.debug = True"
   ]
  },
  {
   "cell_type": "code",
   "execution_count": 93,
   "id": "f2af0113-e02a-4bf1-928d-a7b8afa54a99",
   "metadata": {
    "tags": []
   },
   "outputs": [
    {
     "name": "stdout",
     "output_type": "stream",
     "text": [
      "\u001b[32;1m\u001b[1;3m[chain/start]\u001b[0m \u001b[1m[1:chain:RetrievalQA] Entering Chain run with input:\n",
      "\u001b[0m{\n",
      "  \"query\": \"What collection is the Ultra-Lofty         850 Stretch Down Hooded Jacket from?\"\n",
      "}\n",
      "\u001b[32;1m\u001b[1;3m[chain/start]\u001b[0m \u001b[1m[1:chain:RetrievalQA > 3:chain:StuffDocumentsChain] Entering Chain run with input:\n",
      "\u001b[0m[inputs]\n",
      "\u001b[32;1m\u001b[1;3m[chain/start]\u001b[0m \u001b[1m[1:chain:RetrievalQA > 3:chain:StuffDocumentsChain > 4:chain:LLMChain] Entering Chain run with input:\n",
      "\u001b[0m{\n",
      "  \"question\": \"What collection is the Ultra-Lofty         850 Stretch Down Hooded Jacket from?\",\n",
      "  \"context\": \": 241\\nname: Women's Ultra-Loft Down Sweater Hooded Jacket\\ndescription: Our revolutionary 850 jacket is designed with the best outerwear technology to ensure unbeatable performance. With premium 850 down for more warmth for its weight and DownTek treatment for water resistance, this jacket is light, lofty and warm. The tightly woven Pertex Quantum nylon shell is wind and weather-resistant for added protection. Comfort ratings for light activity is up to 30° and moderate activity up to -20°. With a slightly fitted shape that falls at the hip and best with a midweight layer, this jacket will keep you warm in any condition. It is virtually weightless and packs away into its own pocket. Certified by the Responsible Down Standard, it is a jacket of its own class.<<<<<<<>>>>>>>: 11\\nname: Ultra-Lofty 850 Stretch Down Hooded Jacket\\ndescription: This technical stretch down jacket from our DownTek collection is sure to keep you warm and comfortable with its full-stretch construction providing exceptional range of motion. With a slightly fitted style that falls at the hip and best with a midweight layer, this jacket is suitable for light activity up to 20° and moderate activity up to -30°. The soft and durable 100% polyester shell offers complete windproof protection and is insulated with warm, lofty goose down. Other features include welded baffles for a no-stitch construction and excellent stretch, an adjustable hood, an interior media port and mesh stash pocket and a hem drawcord. Machine wash and dry. Imported.<<<<<<<>>>>>>>: 364\\nname: Ultra-Loft 850 Big Baffle Hooded Jacket\\ndescription: Our Ultralight 850 Down Jacket is designed with bigger baffles to provide you with unparalleled comfort and style. It's suitable for light activity up to 15° and moderate activity to -35°. Its slightly fitted cut falls below the hips and best with midweight layer, making sure you stay warm and cozy. The shell is made from Pertex Y-shaped yarn technology, a tightly interlocked weave that resists moisture and keeps down feathers inside. It's filled with premium 850-fill-power goose down, one of the highest on the market, and treated with DownTek for water repellency. It's also responsibly sourced down. Plus, it features adjustable hood, two zippered hand pockets, one zippered chest pocket, low-profile inner cuff construction and a hem drawcord for additional coverage and wind protection. Machine wash and dry for easy care. Imported.<<<<<<<>>>>>>>: 78\\nname: Women's Stretch Down Quilted Jacket\\ndescription: Our stretch down puffer coat is the perfect combination of warmth and mobility. It is designed to keep you warm and comfortable in temperatures as low as -35°F and is perfect for light to moderate activities. The slightly fitted coat falls at midthigh and is best layered with midweight clothing. The windproof 100% polyester shell is exceptionally warm and features down insulation that is RDS certified for best practices in animal welfare. Plus, it's equipped with a removable and adjustable hood, one interior pocket, and two zipper hand pockets. The low-profile storm cuffs will keep you protected from the elements. The coat is easy to care for - simply machine wash and dry. This coat is imported.\"\n",
      "}\n",
      "\u001b[32;1m\u001b[1;3m[llm/start]\u001b[0m \u001b[1m[1:chain:RetrievalQA > 3:chain:StuffDocumentsChain > 4:chain:LLMChain > 5:llm:ChatGoogleGenerativeAI] Entering LLM run with input:\n",
      "\u001b[0m{\n",
      "  \"prompts\": [\n",
      "    \"System: Use the following pieces of context to answer the user's question. \\nIf you don't know the answer, just say that you don't know, don't try to make up an answer.\\n----------------\\n: 241\\nname: Women's Ultra-Loft Down Sweater Hooded Jacket\\ndescription: Our revolutionary 850 jacket is designed with the best outerwear technology to ensure unbeatable performance. With premium 850 down for more warmth for its weight and DownTek treatment for water resistance, this jacket is light, lofty and warm. The tightly woven Pertex Quantum nylon shell is wind and weather-resistant for added protection. Comfort ratings for light activity is up to 30° and moderate activity up to -20°. With a slightly fitted shape that falls at the hip and best with a midweight layer, this jacket will keep you warm in any condition. It is virtually weightless and packs away into its own pocket. Certified by the Responsible Down Standard, it is a jacket of its own class.<<<<<<<>>>>>>>: 11\\nname: Ultra-Lofty 850 Stretch Down Hooded Jacket\\ndescription: This technical stretch down jacket from our DownTek collection is sure to keep you warm and comfortable with its full-stretch construction providing exceptional range of motion. With a slightly fitted style that falls at the hip and best with a midweight layer, this jacket is suitable for light activity up to 20° and moderate activity up to -30°. The soft and durable 100% polyester shell offers complete windproof protection and is insulated with warm, lofty goose down. Other features include welded baffles for a no-stitch construction and excellent stretch, an adjustable hood, an interior media port and mesh stash pocket and a hem drawcord. Machine wash and dry. Imported.<<<<<<<>>>>>>>: 364\\nname: Ultra-Loft 850 Big Baffle Hooded Jacket\\ndescription: Our Ultralight 850 Down Jacket is designed with bigger baffles to provide you with unparalleled comfort and style. It's suitable for light activity up to 15° and moderate activity to -35°. Its slightly fitted cut falls below the hips and best with midweight layer, making sure you stay warm and cozy. The shell is made from Pertex Y-shaped yarn technology, a tightly interlocked weave that resists moisture and keeps down feathers inside. It's filled with premium 850-fill-power goose down, one of the highest on the market, and treated with DownTek for water repellency. It's also responsibly sourced down. Plus, it features adjustable hood, two zippered hand pockets, one zippered chest pocket, low-profile inner cuff construction and a hem drawcord for additional coverage and wind protection. Machine wash and dry for easy care. Imported.<<<<<<<>>>>>>>: 78\\nname: Women's Stretch Down Quilted Jacket\\ndescription: Our stretch down puffer coat is the perfect combination of warmth and mobility. It is designed to keep you warm and comfortable in temperatures as low as -35°F and is perfect for light to moderate activities. The slightly fitted coat falls at midthigh and is best layered with midweight clothing. The windproof 100% polyester shell is exceptionally warm and features down insulation that is RDS certified for best practices in animal welfare. Plus, it's equipped with a removable and adjustable hood, one interior pocket, and two zipper hand pockets. The low-profile storm cuffs will keep you protected from the elements. The coat is easy to care for - simply machine wash and dry. This coat is imported.\\nHuman: What collection is the Ultra-Lofty         850 Stretch Down Hooded Jacket from?\"\n",
      "  ]\n",
      "}\n",
      "\u001b[36;1m\u001b[1;3m[llm/end]\u001b[0m \u001b[1m[1:chain:RetrievalQA > 3:chain:StuffDocumentsChain > 4:chain:LLMChain > 5:llm:ChatGoogleGenerativeAI] [2.23s] Exiting LLM run with output:\n",
      "\u001b[0m{\n",
      "  \"generations\": [\n",
      "    [\n",
      "      {\n",
      "        \"text\": \"DownTek collection\",\n",
      "        \"generation_info\": {\n",
      "          \"finish_reason\": \"STOP\",\n",
      "          \"safety_ratings\": [\n",
      "            {\n",
      "              \"category\": \"HARM_CATEGORY_SEXUALLY_EXPLICIT\",\n",
      "              \"probability\": \"NEGLIGIBLE\",\n",
      "              \"blocked\": false\n",
      "            },\n",
      "            {\n",
      "              \"category\": \"HARM_CATEGORY_HATE_SPEECH\",\n",
      "              \"probability\": \"NEGLIGIBLE\",\n",
      "              \"blocked\": false\n",
      "            },\n",
      "            {\n",
      "              \"category\": \"HARM_CATEGORY_HARASSMENT\",\n",
      "              \"probability\": \"NEGLIGIBLE\",\n",
      "              \"blocked\": false\n",
      "            },\n",
      "            {\n",
      "              \"category\": \"HARM_CATEGORY_DANGEROUS_CONTENT\",\n",
      "              \"probability\": \"NEGLIGIBLE\",\n",
      "              \"blocked\": false\n",
      "            }\n",
      "          ]\n",
      "        },\n",
      "        \"type\": \"ChatGeneration\",\n",
      "        \"message\": {\n",
      "          \"lc\": 1,\n",
      "          \"type\": \"constructor\",\n",
      "          \"id\": [\n",
      "            \"langchain\",\n",
      "            \"schema\",\n",
      "            \"messages\",\n",
      "            \"AIMessage\"\n",
      "          ],\n",
      "          \"kwargs\": {\n",
      "            \"content\": \"DownTek collection\",\n",
      "            \"additional_kwargs\": {}\n",
      "          }\n",
      "        }\n",
      "      }\n",
      "    ]\n",
      "  ],\n",
      "  \"llm_output\": {\n",
      "    \"prompt_feedback\": {\n",
      "      \"safety_ratings\": [\n",
      "        {\n",
      "          \"category\": 9,\n",
      "          \"probability\": 1,\n",
      "          \"blocked\": false\n",
      "        },\n",
      "        {\n",
      "          \"category\": 8,\n",
      "          \"probability\": 1,\n",
      "          \"blocked\": false\n",
      "        },\n",
      "        {\n",
      "          \"category\": 7,\n",
      "          \"probability\": 1,\n",
      "          \"blocked\": false\n",
      "        },\n",
      "        {\n",
      "          \"category\": 10,\n",
      "          \"probability\": 1,\n",
      "          \"blocked\": false\n",
      "        }\n",
      "      ],\n",
      "      \"block_reason\": 0\n",
      "    }\n",
      "  },\n",
      "  \"run\": null\n",
      "}\n",
      "\u001b[36;1m\u001b[1;3m[chain/end]\u001b[0m \u001b[1m[1:chain:RetrievalQA > 3:chain:StuffDocumentsChain > 4:chain:LLMChain] [2.23s] Exiting Chain run with output:\n",
      "\u001b[0m{\n",
      "  \"text\": \"DownTek collection\"\n",
      "}\n",
      "\u001b[36;1m\u001b[1;3m[chain/end]\u001b[0m \u001b[1m[1:chain:RetrievalQA > 3:chain:StuffDocumentsChain] [2.23s] Exiting Chain run with output:\n",
      "\u001b[0m{\n",
      "  \"output_text\": \"DownTek collection\"\n",
      "}\n",
      "\u001b[36;1m\u001b[1;3m[chain/end]\u001b[0m \u001b[1m[1:chain:RetrievalQA] [2.68s] Exiting Chain run with output:\n",
      "\u001b[0m{\n",
      "  \"result\": \"DownTek collection\"\n",
      "}\n"
     ]
    },
    {
     "data": {
      "text/plain": [
       "'DownTek collection'"
      ]
     },
     "execution_count": 93,
     "metadata": {},
     "output_type": "execute_result"
    }
   ],
   "source": [
    "qa_app.run(examples[1]['query'])"
   ]
  },
  {
   "cell_type": "code",
   "execution_count": 94,
   "id": "65124463-f641-4090-a543-8873a0c22213",
   "metadata": {
    "tags": []
   },
   "outputs": [],
   "source": [
    "langchain.debug = False"
   ]
  },
  {
   "cell_type": "markdown",
   "id": "f573f10d-92f0-49c6-aa0c-c788cf064d8b",
   "metadata": {},
   "source": [
    "# LLM Assisted Evaluation"
   ]
  },
  {
   "cell_type": "code",
   "execution_count": 95,
   "id": "980ee9f5-a4eb-4ea9-b99d-b1339873e71d",
   "metadata": {
    "tags": []
   },
   "outputs": [
    {
     "name": "stdout",
     "output_type": "stream",
     "text": [
      "\n",
      "\n",
      "\u001b[1m> Entering new RetrievalQA chain...\u001b[0m\n",
      "\n",
      "\u001b[1m> Finished chain.\u001b[0m\n",
      "\n",
      "\n",
      "\u001b[1m> Entering new RetrievalQA chain...\u001b[0m\n",
      "\n",
      "\u001b[1m> Finished chain.\u001b[0m\n",
      "\n",
      "\n",
      "\u001b[1m> Entering new RetrievalQA chain...\u001b[0m\n",
      "\n",
      "\u001b[1m> Finished chain.\u001b[0m\n",
      "\n",
      "\n",
      "\u001b[1m> Entering new RetrievalQA chain...\u001b[0m\n",
      "\n",
      "\u001b[1m> Finished chain.\u001b[0m\n",
      "\n",
      "\n",
      "\u001b[1m> Entering new RetrievalQA chain...\u001b[0m\n",
      "\n",
      "\u001b[1m> Finished chain.\u001b[0m\n",
      "\n",
      "\n",
      "\u001b[1m> Entering new RetrievalQA chain...\u001b[0m\n",
      "\n",
      "\u001b[1m> Finished chain.\u001b[0m\n",
      "\n",
      "\n",
      "\u001b[1m> Entering new RetrievalQA chain...\u001b[0m\n",
      "\n",
      "\u001b[1m> Finished chain.\u001b[0m\n"
     ]
    }
   ],
   "source": [
    "predictions = qa_app.apply(examples)"
   ]
  },
  {
   "cell_type": "code",
   "execution_count": 97,
   "id": "f81612c1-111f-4ef5-951f-d24757c2ac03",
   "metadata": {
    "tags": []
   },
   "outputs": [
    {
     "data": {
      "text/plain": [
       "[{'query': 'Do the cozy comfortable         pullover set have side pockets?',\n",
       "  'answer': 'Yes',\n",
       "  'result': 'I do not know. The provided context does not mention whether the Cozy Comfort Pullover Set has side pockets.'},\n",
       " {'query': 'What collection is the Ultra-Lofty         850 Stretch Down Hooded Jacket from?',\n",
       "  'answer': 'The DownTek Collection',\n",
       "  'result': 'DownTek collection'}]"
      ]
     },
     "execution_count": 97,
     "metadata": {},
     "output_type": "execute_result"
    }
   ],
   "source": [
    "predictions[:2]"
   ]
  },
  {
   "cell_type": "code",
   "execution_count": 98,
   "id": "d5ad4017-aad2-4594-962e-9f5aa18affd6",
   "metadata": {
    "tags": []
   },
   "outputs": [],
   "source": [
    "from langchain.evaluation.qa import QAEvalChain"
   ]
  },
  {
   "cell_type": "code",
   "execution_count": 99,
   "id": "93d4a1c0-cf11-4b2b-8a10-60c5b199d66d",
   "metadata": {
    "tags": []
   },
   "outputs": [],
   "source": [
    "eval_chain = QAEvalChain.from_llm(llm)"
   ]
  },
  {
   "cell_type": "code",
   "execution_count": 100,
   "id": "a8d1f2e1-d6b2-4f7c-8efa-75fd19dcb891",
   "metadata": {
    "tags": []
   },
   "outputs": [],
   "source": [
    "graded_output = eval_chain.evaluate(examples, predictions)"
   ]
  },
  {
   "cell_type": "code",
   "execution_count": 107,
   "id": "1afea795-4451-478e-879c-6f6212c8e680",
   "metadata": {
    "tags": []
   },
   "outputs": [
    {
     "name": "stdout",
     "output_type": "stream",
     "text": [
      "Example 0:\n",
      "Questions: Do the cozy comfortable         pullover set have side pockets?\n",
      "Real Answer: Yes\n",
      "Predicted Answer: I do not know. The provided context does not mention whether the Cozy Comfort Pullover Set has side pockets.\n",
      "\n",
      "\n",
      "\n",
      "Example 1:\n",
      "Questions: What collection is the Ultra-Lofty         850 Stretch Down Hooded Jacket from?\n",
      "Real Answer: The DownTek Collection\n",
      "Predicted Answer: DownTek collection\n",
      "\n",
      "\n",
      "\n",
      "Example 2:\n",
      "Questions: What is the approximate weight of a pair of Women's Campside Oxfords?\n",
      "Real Answer: 1 lb. 1 oz.\n",
      "Predicted Answer: 1 lb.1 oz.\n",
      "\n",
      "\n",
      "\n",
      "Example 3:\n",
      "Questions: What are the dimensions of the small Recycled Waterhog Dog Mat?\n",
      "Real Answer: 18\" x 28\"\n",
      "Predicted Answer: 18\" x 28\"\n",
      "\n",
      "\n",
      "\n",
      "Example 4:\n",
      "Questions: What is the sun protection rating of the swimsuit fabric?\n",
      "Real Answer: UPF 50+\n",
      "Predicted Answer: UPF 50+\n",
      "\n",
      "\n",
      "\n",
      "Example 5:\n",
      "Questions: What is the fabric composition of the Refresh Swimwear, V-Neck Tankini Contrasts?\n",
      "Real Answer: The body of the tankini is made of 82% recycled nylon with 18% Lycra® spandex, while the lining is made of 90% recycled nylon with 10% Lycra® spandex.\n",
      "Predicted Answer: The body of the Refresh Swimwear, V-Neck Tankini Contrasts is made from 82% recycled nylon with 18% Lycra® spandex. The lining is made from 90% recycled nylon with 10% Lycra® spandex.\n",
      "\n",
      "\n",
      "\n",
      "Example 6:\n",
      "Questions: What is the name of the new technology used in these pants?\n",
      "Real Answer: TEK O2\n",
      "Predicted Answer: TEK O2\n",
      "\n",
      "\n",
      "\n"
     ]
    }
   ],
   "source": [
    "for index, ex in enumerate(examples):\n",
    "    print(f\"Example {index}:\")\n",
    "    print(f\"Questions: {predictions[index]['query']}\")\n",
    "    print(f\"Real Answer: {predictions[index]['answer']}\")\n",
    "    print(f\"Predicted Answer: {predictions[index]['result']}\")\n",
    "    print(\"\\n\\n\")"
   ]
  },
  {
   "cell_type": "code",
   "execution_count": null,
   "id": "174f15df-5e8b-4691-bdb9-37c302b5760c",
   "metadata": {},
   "outputs": [],
   "source": []
  }
 ],
 "metadata": {
  "kernelspec": {
   "display_name": "Python 3 (ipykernel)",
   "language": "python",
   "name": "python3"
  },
  "language_info": {
   "codemirror_mode": {
    "name": "ipython",
    "version": 3
   },
   "file_extension": ".py",
   "mimetype": "text/x-python",
   "name": "python",
   "nbconvert_exporter": "python",
   "pygments_lexer": "ipython3",
   "version": "3.11.5"
  }
 },
 "nbformat": 4,
 "nbformat_minor": 5
}
