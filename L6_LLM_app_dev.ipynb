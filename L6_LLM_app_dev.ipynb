{
 "cells": [
  {
   "cell_type": "markdown",
   "id": "051bda50-20bb-429c-b6d2-52acb4cec73f",
   "metadata": {},
   "source": [
    "# LangChain: Agents\n",
    "\n",
    "## Outline:\n",
    "\n",
    "* Using built in LangChain tools: DuckDuckGo search and Wikipedia\n",
    "* Defining your own tools"
   ]
  },
  {
   "cell_type": "markdown",
   "id": "98b3a1da-6acf-4787-a8b1-f15e13e77ed0",
   "metadata": {},
   "source": [
    "---\n",
    "\n",
    "- LLMs are misinterpreted to be a knowledge store\n",
    "- LLMs are more like \"reasoning engines\"\n",
    "- It makes used of the knowledge learnt but can build answer to new questions with a reasoning\n",
    "\n",
    "---\n",
    "\n",
    "# Initial Setup\n"
   ]
  },
  {
   "cell_type": "code",
   "execution_count": 1,
   "id": "59908a3d-b85b-4ba1-985a-b9a6d9f78a8d",
   "metadata": {
    "tags": []
   },
   "outputs": [],
   "source": [
    "# API Key setup\n",
    "import os\n",
    "\n",
    "api = !cat ../`ls -a ../ | grep \"gemini\"`\n",
    "\n",
    "api = api[0]\n",
    "\n",
    "os.environ['GOOGLE_API_KEY'] = api\n",
    "# universal variable, used by langchain"
   ]
  },
  {
   "cell_type": "markdown",
   "id": "78187752-3db8-4f87-a42e-b2729058b91a",
   "metadata": {},
   "source": [
    "# Agents\n",
    "\n",
    "- Agents in LangChain are systems that use a language model to interact with other tools. They can be used for tasks such as grounded question/answering, interacting with APIs, or taking action."
   ]
  },
  {
   "cell_type": "code",
   "execution_count": 12,
   "id": "4f1fe139-8d4f-433a-a2bf-23a18e7c257a",
   "metadata": {
    "tags": []
   },
   "outputs": [],
   "source": [
    "# pip install langchain_experimental"
   ]
  },
  {
   "cell_type": "code",
   "execution_count": 13,
   "id": "8e994f0c-aca2-4034-9a6c-500438d9939f",
   "metadata": {
    "tags": []
   },
   "outputs": [],
   "source": [
    "from langchain_experimental.agents.agent_toolkits import create_python_agent\n",
    "from langchain.agents import load_tools, initialize_agent\n",
    "from langchain.agents import AgentType\n",
    "from langchain_experimental.tools.python.tool import PythonREPLTool\n",
    "from langchain.python import PythonREPL\n",
    "from langchain_google_genai import ChatGoogleGenerativeAI"
   ]
  },
  {
   "cell_type": "code",
   "execution_count": 26,
   "id": "b3ae9066-72b7-4a50-8021-5d4259a87df3",
   "metadata": {
    "tags": []
   },
   "outputs": [],
   "source": [
    "# We will use the LLM as a reasoning engine\n",
    "# So, temperature=0 is a must, here\n",
    "llm = ChatGoogleGenerativeAI(model='gemini-pro', \n",
    "                             temperature=0.0, \n",
    "                             convert_system_message_to_human=True)"
   ]
  },
  {
   "cell_type": "code",
   "execution_count": 27,
   "id": "440cf87d-5d01-4a77-ac96-2142fc5b7f43",
   "metadata": {
    "tags": []
   },
   "outputs": [],
   "source": [
    "# Loading the tools for different tasks\n",
    "# llm-math is a chain: Uses LLM in conjunction with a calculator\n",
    "# wikipedia is a an API tool\n",
    "tools = load_tools(['llm-math', 'wikipedia'], llm=llm)"
   ]
  },
  {
   "cell_type": "code",
   "execution_count": 28,
   "id": "1fecf9d5-72c4-4c88-abaf-1c3e38fa09f1",
   "metadata": {
    "tags": []
   },
   "outputs": [
    {
     "data": {
      "text/plain": [
       "[Tool(name='Calculator', description='Useful for when you need to answer questions about math.', func=<bound method Chain.run of LLMMathChain(llm_chain=LLMChain(prompt=PromptTemplate(input_variables=['question'], template='Translate a math problem into a expression that can be executed using Python\\'s numexpr library. Use the output of running this code to answer the question.\\n\\nQuestion: ${{Question with math problem.}}\\n```text\\n${{single line mathematical expression that solves the problem}}\\n```\\n...numexpr.evaluate(text)...\\n```output\\n${{Output of running the code}}\\n```\\nAnswer: ${{Answer}}\\n\\nBegin.\\n\\nQuestion: What is 37593 * 67?\\n```text\\n37593 * 67\\n```\\n...numexpr.evaluate(\"37593 * 67\")...\\n```output\\n2518731\\n```\\nAnswer: 2518731\\n\\nQuestion: 37593^(1/5)\\n```text\\n37593**(1/5)\\n```\\n...numexpr.evaluate(\"37593**(1/5)\")...\\n```output\\n8.222831614237718\\n```\\nAnswer: 8.222831614237718\\n\\nQuestion: {question}\\n'), llm=ChatGoogleGenerativeAI(model='gemini-pro', temperature=0.0, client=genai.GenerativeModel(\n",
       "     model_name='models/gemini-pro',\n",
       "     generation_config={},\n",
       "     safety_settings={},\n",
       "     tools=None,\n",
       " ), convert_system_message_to_human=True)))>, coroutine=<bound method Chain.arun of LLMMathChain(llm_chain=LLMChain(prompt=PromptTemplate(input_variables=['question'], template='Translate a math problem into a expression that can be executed using Python\\'s numexpr library. Use the output of running this code to answer the question.\\n\\nQuestion: ${{Question with math problem.}}\\n```text\\n${{single line mathematical expression that solves the problem}}\\n```\\n...numexpr.evaluate(text)...\\n```output\\n${{Output of running the code}}\\n```\\nAnswer: ${{Answer}}\\n\\nBegin.\\n\\nQuestion: What is 37593 * 67?\\n```text\\n37593 * 67\\n```\\n...numexpr.evaluate(\"37593 * 67\")...\\n```output\\n2518731\\n```\\nAnswer: 2518731\\n\\nQuestion: 37593^(1/5)\\n```text\\n37593**(1/5)\\n```\\n...numexpr.evaluate(\"37593**(1/5)\")...\\n```output\\n8.222831614237718\\n```\\nAnswer: 8.222831614237718\\n\\nQuestion: {question}\\n'), llm=ChatGoogleGenerativeAI(model='gemini-pro', temperature=0.0, client=genai.GenerativeModel(\n",
       "     model_name='models/gemini-pro',\n",
       "     generation_config={},\n",
       "     safety_settings={},\n",
       "     tools=None,\n",
       " ), convert_system_message_to_human=True)))>),\n",
       " WikipediaQueryRun(api_wrapper=WikipediaAPIWrapper(wiki_client=<module 'wikipedia' from '/Users/pushpakruhil/anaconda3/lib/python3.11/site-packages/wikipedia/__init__.py'>, top_k_results=3, lang='en', load_all_available_meta=False, doc_content_chars_max=4000))]"
      ]
     },
     "execution_count": 28,
     "metadata": {},
     "output_type": "execute_result"
    }
   ],
   "source": [
    "tools"
   ]
  },
  {
   "cell_type": "code",
   "execution_count": 29,
   "id": "f50b0aed-f0a2-42a9-bf8a-c7d728ccb263",
   "metadata": {
    "tags": []
   },
   "outputs": [],
   "source": [
    "# Initialize an agent with the tools, llm and agent type\n",
    "# The agent type here is:\n",
    "# A zero shot agent that does a reasoning step before acting.\n",
    "# This agent is designed to be used in conjunction\n",
    "\n",
    "agent = initialize_agent(\n",
    "    tools,\n",
    "    llm,\n",
    "    agent=AgentType.CHAT_ZERO_SHOT_REACT_DESCRIPTION,\n",
    "    handle_parsing_errors = True, \n",
    "    verbose = True\n",
    ")\n",
    "\n",
    "# handle_parsing_errors is activated when the output is not in the \n",
    "# desired format. The agent would send it back to the LLM to get abck\n",
    "# the correct output format."
   ]
  },
  {
   "cell_type": "markdown",
   "id": "21644ae6-6ad6-41f5-8160-fcd5263724f8",
   "metadata": {},
   "source": [
    "# LLM-Math Tool"
   ]
  },
  {
   "cell_type": "code",
   "execution_count": 30,
   "id": "199d9838-358f-4080-8afb-a4cdbaf09f5c",
   "metadata": {
    "tags": []
   },
   "outputs": [
    {
     "name": "stdout",
     "output_type": "stream",
     "text": [
      "\n",
      "\n",
      "\u001b[1m> Entering new AgentExecutor chain...\u001b[0m\n",
      "\u001b[32;1m\u001b[1;3mQuestion: what is 25% of 300?\n",
      "Thought: I should multiply 300 by 25%\n",
      "Action:\n",
      "```\n",
      "{\n",
      "  \"action\": \"Calculator\",\n",
      "  \"action_input\": \"300 * 25 / 100\"\n",
      "}\n",
      "```\n",
      "\u001b[0m\n",
      "Observation: \u001b[36;1m\u001b[1;3mAnswer: 75.0\u001b[0m\n",
      "Thought:\u001b[32;1m\u001b[1;3mFinal Answer: 75\u001b[0m\n",
      "\n",
      "\u001b[1m> Finished chain.\u001b[0m\n"
     ]
    },
    {
     "data": {
      "text/plain": [
       "{'input': 'what is 25% of 300?', 'output': '75'}"
      ]
     },
     "execution_count": 30,
     "metadata": {},
     "output_type": "execute_result"
    }
   ],
   "source": [
    "agent.invoke(\"what is 25% of 300?\")"
   ]
  },
  {
   "cell_type": "markdown",
   "id": "64c241e9-b308-4e95-8a8a-3995200da55d",
   "metadata": {},
   "source": [
    "## Understanding the output verbose\n",
    "\n",
    "- First, there is a thought process. what should the LLM do?\n",
    "- Then, there is an action. This action is a json block \n",
    "    - 2 keys: action and action_input\n",
    "    - Tells what action needs to be performed\n",
    "    - And what is the input to that action?\n",
    "- Then, there's an observation with an answer\n",
    "    - This comes from the calculator tool\n",
    "- Finally, before the chain ends, we have a final thought\n",
    "    - This contains the final answer and then closes the chain\n",
    "    "
   ]
  },
  {
   "cell_type": "markdown",
   "id": "cae018e4-82b8-4625-a225-7c8284a79167",
   "metadata": {},
   "source": [
    "## Trying out different problems"
   ]
  },
  {
   "cell_type": "code",
   "execution_count": 32,
   "id": "df44b614-9888-4d94-883e-1ac09943c4e9",
   "metadata": {
    "tags": []
   },
   "outputs": [
    {
     "name": "stdout",
     "output_type": "stream",
     "text": [
      "\n",
      "\n",
      "\u001b[1m> Entering new AgentExecutor chain...\u001b[0m\n",
      "\u001b[32;1m\u001b[1;3mQuestion: what is two plus two equals to? answer in words\n",
      "Thought: I should use the calculator to add two and two\n",
      "Action:\n",
      "```\n",
      "{\n",
      "  \"action\": \"Calculator\",\n",
      "  \"action_input\": \"2 + 2\"\n",
      "}\n",
      "```\n",
      "\u001b[0m\n",
      "Observation: \u001b[36;1m\u001b[1;3mAnswer: 4\u001b[0m\n",
      "Thought:\u001b[32;1m\u001b[1;3mI should now answer in words\n",
      "Final Answer: four\u001b[0m\n",
      "\n",
      "\u001b[1m> Finished chain.\u001b[0m\n"
     ]
    },
    {
     "data": {
      "text/plain": [
       "{'input': 'what is two plus two equals to? answer in words', 'output': 'four'}"
      ]
     },
     "execution_count": 32,
     "metadata": {},
     "output_type": "execute_result"
    }
   ],
   "source": [
    "agent.invoke(\"what is two plus two equals to? answer in words\")"
   ]
  },
  {
   "cell_type": "code",
   "execution_count": 34,
   "id": "910621b9-d645-47bb-958a-3a865f5b57f3",
   "metadata": {
    "tags": []
   },
   "outputs": [
    {
     "name": "stdout",
     "output_type": "stream",
     "text": [
      "\n",
      "\n",
      "\u001b[1m> Entering new AgentExecutor chain...\u001b[0m\n",
      "\u001b[32;1m\u001b[1;3mQuestion: what is two plus two equals to? Take the result and then raise it to the power two. Answer in words\n",
      "Thought: I should first add two and two, and then square the result\n",
      "Action:\n",
      "```\n",
      "{\n",
      "  \"action\": \"Calculator\",\n",
      "  \"action_input\": \"2 + 2\"\n",
      "}\n",
      "```\n",
      "\u001b[0m\n",
      "Observation: \u001b[36;1m\u001b[1;3mAnswer: 4\u001b[0m\n",
      "Thought:\u001b[32;1m\u001b[1;3mI should now square the result\n",
      "Action:\n",
      "```\n",
      "{\n",
      "  \"action\": \"Calculator\",\n",
      "  \"action_input\": \"4 * 4\"\n",
      "}\n",
      "```\n",
      "\n",
      "\u001b[0m\n",
      "Observation: \u001b[36;1m\u001b[1;3mAnswer: 16\u001b[0m\n",
      "Thought:\u001b[32;1m\u001b[1;3mI now know the final answer\n",
      "Final Answer: sixteen\u001b[0m\n",
      "\n",
      "\u001b[1m> Finished chain.\u001b[0m\n"
     ]
    },
    {
     "data": {
      "text/plain": [
       "{'input': 'what is two plus two equals to? Take the result and then raise it to the power two. Answer in words',\n",
       " 'output': 'sixteen'}"
      ]
     },
     "execution_count": 34,
     "metadata": {},
     "output_type": "execute_result"
    }
   ],
   "source": [
    "agent.invoke(\"what is two plus two equals to? \\\n",
    "Take the result and then raise it to the power two. \\\n",
    "Answer in words\")"
   ]
  },
  {
   "cell_type": "markdown",
   "id": "26450b6c-85b0-480c-a7ba-08f7d5f0b716",
   "metadata": {},
   "source": [
    "# Wikipedia API\n",
    "- Wikipedia API is glitchy with, yet again, Google's APIs\n",
    "- So, some queries do not run fully"
   ]
  },
  {
   "cell_type": "code",
   "execution_count": 50,
   "id": "031773db-1f1f-4dfa-92c9-6c9279ebbfe9",
   "metadata": {
    "tags": []
   },
   "outputs": [],
   "source": [
    "question = \"What is the India?\""
   ]
  },
  {
   "cell_type": "code",
   "execution_count": 51,
   "id": "df74594f-de9d-41af-b6e5-7cf1071608f2",
   "metadata": {
    "tags": []
   },
   "outputs": [
    {
     "name": "stdout",
     "output_type": "stream",
     "text": [
      "\n",
      "\n",
      "\u001b[1m> Entering new AgentExecutor chain...\u001b[0m\n",
      "\u001b[32;1m\u001b[1;3mQuestion: What is the India?\n",
      "Thought: I should search for India on Wikipedia\n",
      "Action:\n",
      "```\n",
      "{\n",
      "  \"action\": \"wikipedia\",\n",
      "  \"action_input\": \"India\"\n",
      "}\n",
      "```\n",
      "\u001b[0m\n",
      "Observation: \u001b[33;1m\u001b[1;3mPage: India\n",
      "Summary: India, officially the Republic of India (ISO: Bhārat Gaṇarājya), is a country in South Asia.  It is the seventh-largest country by area; the most populous country as of June 2023; and from the time of its independence in 1947, the world's most populous democracy. Bounded by the Indian Ocean on the south, the Arabian Sea on the southwest, and the Bay of Bengal on the southeast, it shares land borders with Pakistan to the west; China, Nepal, and Bhutan to the north; and Bangladesh and Myanmar to the east. In the Indian Ocean, India is in the vicinity of Sri Lanka and the Maldives; its Andaman and Nicobar Islands share a maritime border with Thailand, Myanmar, and Indonesia.\n",
      "Modern humans arrived on the Indian subcontinent from Africa no later than 55,000 years ago.\n",
      "Their long occupation, initially in varying forms of isolation as hunter-gatherers, has made the region highly diverse, second only to Africa in human genetic diversity. Settled life emerged on the subcontinent in the western margins of the Indus river basin 9,000 years ago, evolving gradually into the Indus Valley Civilisation of the third millennium BCE.\n",
      "By 1200 BCE, an archaic form of Sanskrit, an Indo-European language, had diffused into India from the northwest. Its evidence today is found in the hymns of the Rigveda. Preserved by an oral tradition that was resolutely vigilant, the Rigveda records the dawning of Hinduism in India. The Dravidian languages of India were supplanted in the northern and western regions.\n",
      "By 400 BCE, stratification and exclusion by caste had emerged within Hinduism,\n",
      "and Buddhism and Jainism had arisen, proclaiming social orders unlinked to heredity.\n",
      "Early political consolidations gave rise to the loose-knit Maurya and Gupta Empires based in the Ganges Basin.\n",
      "Their collective era was suffused with wide-ranging creativity, but also marked by the declining status of women, and the incorporation of untouchability into an organised system of belief. In South India, the Middle kingdoms exported Dravidian-languages scripts and religious cultures to the kingdoms of Southeast Asia.In the early medieval era, Christianity, Islam, Judaism, and Zoroastrianism became established on India's southern and western coasts.\n",
      "Muslim armies from Central Asia intermittently overran India's northern plains,\n",
      "eventually founding the Delhi Sultanate, and drawing northern India into the cosmopolitan networks of medieval Islam.\n",
      "In the 15th century, the Vijayanagara Empire created a long-lasting composite Hindu culture in south India.\n",
      "In the Punjab, Sikhism emerged, rejecting institutionalised religion.\n",
      "The Mughal Empire, in 1526, ushered in two centuries of relative peace,\n",
      "leaving a legacy of luminous architecture.\n",
      "Gradually expanding rule of the British East India Company followed, turning India into a colonial economy, but also consolidating its sovereignty. British Crown rule began in 1858. The rights promised to Indians were granted slowly, but technological changes were introduced, and modern ideas of education and the public life took root. A pioneering and influential nationalist movement emerged, which was noted for nonviolent resistance and became the major factor in ending British rule. In 1947 the British Indian Empire was partitioned into two independent dominions, a Hindu-majority Dominion of India and a Muslim-majority Dominion of Pakistan, amid large-scale loss of life and an unprecedented migration.India has been a federal republic since 1950, governed through a democratic parliamentary system. It is a pluralistic, multilingual and multi-ethnic society. India's population grew from 361 million in 1951 to almost 1.4 billion in 2022.\n",
      "During the same time, its nominal per capita income increased from US$64 annually to US$2,601, and its literacy rate from 16.6% to 74%. From being a comparatively destitute country in 1951, India has become a fast-growing major economy and a hub for information technology services, with an expanding mi\u001b[0m\n",
      "Thought:\u001b[32;1m\u001b[1;3m India is a country in South Asia. It is the seventh-largest country by area, the most populous country as of June 2023, and from the time of its independence in 1947, the world's most populous democracy.\n",
      "Final Answer: India is a country in South Asia.\u001b[0m\n",
      "\n",
      "\u001b[1m> Finished chain.\u001b[0m\n"
     ]
    }
   ],
   "source": [
    "result = agent(question)"
   ]
  },
  {
   "cell_type": "code",
   "execution_count": 57,
   "id": "64d3a2b6-a38d-49e4-8b9a-da1094f5a224",
   "metadata": {
    "tags": []
   },
   "outputs": [
    {
     "name": "stdout",
     "output_type": "stream",
     "text": [
      "\n",
      "\n",
      "\u001b[1m> Entering new AgentExecutor chain...\u001b[0m\n",
      "\u001b[32;1m\u001b[1;3mThought: I can use wikipedia to find the latest MacOS version name\n",
      "Action:\n",
      "```\n",
      "{\n",
      "  \"action\": \"wikipedia\",\n",
      "  \"action_input\": {\n",
      "    \"search\": \"macOS\"\n",
      "  }\n",
      "}\n",
      "```\n",
      "\u001b[0m"
     ]
    },
    {
     "ename": "TypeError",
     "evalue": "WikipediaQueryRun._run() got an unexpected keyword argument 'search'",
     "output_type": "error",
     "traceback": [
      "\u001b[0;31m---------------------------------------------------------------------------\u001b[0m",
      "\u001b[0;31mTypeError\u001b[0m                                 Traceback (most recent call last)",
      "Cell \u001b[0;32mIn[57], line 1\u001b[0m\n\u001b[0;32m----> 1\u001b[0m result \u001b[38;5;241m=\u001b[39m agent\u001b[38;5;241m.\u001b[39minvoke(\u001b[38;5;124m\"\u001b[39m\u001b[38;5;124mWhat is the latest MacOS version name?\u001b[39m\u001b[38;5;124m\"\u001b[39m)\n",
      "File \u001b[0;32m~/anaconda3/lib/python3.11/site-packages/langchain/chains/base.py:163\u001b[0m, in \u001b[0;36mChain.invoke\u001b[0;34m(self, input, config, **kwargs)\u001b[0m\n\u001b[1;32m    161\u001b[0m \u001b[38;5;28;01mexcept\u001b[39;00m \u001b[38;5;167;01mBaseException\u001b[39;00m \u001b[38;5;28;01mas\u001b[39;00m e:\n\u001b[1;32m    162\u001b[0m     run_manager\u001b[38;5;241m.\u001b[39mon_chain_error(e)\n\u001b[0;32m--> 163\u001b[0m     \u001b[38;5;28;01mraise\u001b[39;00m e\n\u001b[1;32m    164\u001b[0m run_manager\u001b[38;5;241m.\u001b[39mon_chain_end(outputs)\n\u001b[1;32m    166\u001b[0m \u001b[38;5;28;01mif\u001b[39;00m include_run_info:\n",
      "File \u001b[0;32m~/anaconda3/lib/python3.11/site-packages/langchain/chains/base.py:153\u001b[0m, in \u001b[0;36mChain.invoke\u001b[0;34m(self, input, config, **kwargs)\u001b[0m\n\u001b[1;32m    150\u001b[0m \u001b[38;5;28;01mtry\u001b[39;00m:\n\u001b[1;32m    151\u001b[0m     \u001b[38;5;28mself\u001b[39m\u001b[38;5;241m.\u001b[39m_validate_inputs(inputs)\n\u001b[1;32m    152\u001b[0m     outputs \u001b[38;5;241m=\u001b[39m (\n\u001b[0;32m--> 153\u001b[0m         \u001b[38;5;28mself\u001b[39m\u001b[38;5;241m.\u001b[39m_call(inputs, run_manager\u001b[38;5;241m=\u001b[39mrun_manager)\n\u001b[1;32m    154\u001b[0m         \u001b[38;5;28;01mif\u001b[39;00m new_arg_supported\n\u001b[1;32m    155\u001b[0m         \u001b[38;5;28;01melse\u001b[39;00m \u001b[38;5;28mself\u001b[39m\u001b[38;5;241m.\u001b[39m_call(inputs)\n\u001b[1;32m    156\u001b[0m     )\n\u001b[1;32m    158\u001b[0m     final_outputs: Dict[\u001b[38;5;28mstr\u001b[39m, Any] \u001b[38;5;241m=\u001b[39m \u001b[38;5;28mself\u001b[39m\u001b[38;5;241m.\u001b[39mprep_outputs(\n\u001b[1;32m    159\u001b[0m         inputs, outputs, return_only_outputs\n\u001b[1;32m    160\u001b[0m     )\n\u001b[1;32m    161\u001b[0m \u001b[38;5;28;01mexcept\u001b[39;00m \u001b[38;5;167;01mBaseException\u001b[39;00m \u001b[38;5;28;01mas\u001b[39;00m e:\n",
      "File \u001b[0;32m~/anaconda3/lib/python3.11/site-packages/langchain/agents/agent.py:1432\u001b[0m, in \u001b[0;36mAgentExecutor._call\u001b[0;34m(self, inputs, run_manager)\u001b[0m\n\u001b[1;32m   1430\u001b[0m \u001b[38;5;66;03m# We now enter the agent loop (until it returns something).\u001b[39;00m\n\u001b[1;32m   1431\u001b[0m \u001b[38;5;28;01mwhile\u001b[39;00m \u001b[38;5;28mself\u001b[39m\u001b[38;5;241m.\u001b[39m_should_continue(iterations, time_elapsed):\n\u001b[0;32m-> 1432\u001b[0m     next_step_output \u001b[38;5;241m=\u001b[39m \u001b[38;5;28mself\u001b[39m\u001b[38;5;241m.\u001b[39m_take_next_step(\n\u001b[1;32m   1433\u001b[0m         name_to_tool_map,\n\u001b[1;32m   1434\u001b[0m         color_mapping,\n\u001b[1;32m   1435\u001b[0m         inputs,\n\u001b[1;32m   1436\u001b[0m         intermediate_steps,\n\u001b[1;32m   1437\u001b[0m         run_manager\u001b[38;5;241m=\u001b[39mrun_manager,\n\u001b[1;32m   1438\u001b[0m     )\n\u001b[1;32m   1439\u001b[0m     \u001b[38;5;28;01mif\u001b[39;00m \u001b[38;5;28misinstance\u001b[39m(next_step_output, AgentFinish):\n\u001b[1;32m   1440\u001b[0m         \u001b[38;5;28;01mreturn\u001b[39;00m \u001b[38;5;28mself\u001b[39m\u001b[38;5;241m.\u001b[39m_return(\n\u001b[1;32m   1441\u001b[0m             next_step_output, intermediate_steps, run_manager\u001b[38;5;241m=\u001b[39mrun_manager\n\u001b[1;32m   1442\u001b[0m         )\n",
      "File \u001b[0;32m~/anaconda3/lib/python3.11/site-packages/langchain/agents/agent.py:1138\u001b[0m, in \u001b[0;36mAgentExecutor._take_next_step\u001b[0;34m(self, name_to_tool_map, color_mapping, inputs, intermediate_steps, run_manager)\u001b[0m\n\u001b[1;32m   1129\u001b[0m \u001b[38;5;28;01mdef\u001b[39;00m \u001b[38;5;21m_take_next_step\u001b[39m(\n\u001b[1;32m   1130\u001b[0m     \u001b[38;5;28mself\u001b[39m,\n\u001b[1;32m   1131\u001b[0m     name_to_tool_map: Dict[\u001b[38;5;28mstr\u001b[39m, BaseTool],\n\u001b[0;32m   (...)\u001b[0m\n\u001b[1;32m   1135\u001b[0m     run_manager: Optional[CallbackManagerForChainRun] \u001b[38;5;241m=\u001b[39m \u001b[38;5;28;01mNone\u001b[39;00m,\n\u001b[1;32m   1136\u001b[0m ) \u001b[38;5;241m-\u001b[39m\u001b[38;5;241m>\u001b[39m Union[AgentFinish, List[Tuple[AgentAction, \u001b[38;5;28mstr\u001b[39m]]]:\n\u001b[1;32m   1137\u001b[0m     \u001b[38;5;28;01mreturn\u001b[39;00m \u001b[38;5;28mself\u001b[39m\u001b[38;5;241m.\u001b[39m_consume_next_step(\n\u001b[0;32m-> 1138\u001b[0m         [\n\u001b[1;32m   1139\u001b[0m             a\n\u001b[1;32m   1140\u001b[0m             \u001b[38;5;28;01mfor\u001b[39;00m a \u001b[38;5;129;01min\u001b[39;00m \u001b[38;5;28mself\u001b[39m\u001b[38;5;241m.\u001b[39m_iter_next_step(\n\u001b[1;32m   1141\u001b[0m                 name_to_tool_map,\n\u001b[1;32m   1142\u001b[0m                 color_mapping,\n\u001b[1;32m   1143\u001b[0m                 inputs,\n\u001b[1;32m   1144\u001b[0m                 intermediate_steps,\n\u001b[1;32m   1145\u001b[0m                 run_manager,\n\u001b[1;32m   1146\u001b[0m             )\n\u001b[1;32m   1147\u001b[0m         ]\n\u001b[1;32m   1148\u001b[0m     )\n",
      "File \u001b[0;32m~/anaconda3/lib/python3.11/site-packages/langchain/agents/agent.py:1138\u001b[0m, in \u001b[0;36m<listcomp>\u001b[0;34m(.0)\u001b[0m\n\u001b[1;32m   1129\u001b[0m \u001b[38;5;28;01mdef\u001b[39;00m \u001b[38;5;21m_take_next_step\u001b[39m(\n\u001b[1;32m   1130\u001b[0m     \u001b[38;5;28mself\u001b[39m,\n\u001b[1;32m   1131\u001b[0m     name_to_tool_map: Dict[\u001b[38;5;28mstr\u001b[39m, BaseTool],\n\u001b[0;32m   (...)\u001b[0m\n\u001b[1;32m   1135\u001b[0m     run_manager: Optional[CallbackManagerForChainRun] \u001b[38;5;241m=\u001b[39m \u001b[38;5;28;01mNone\u001b[39;00m,\n\u001b[1;32m   1136\u001b[0m ) \u001b[38;5;241m-\u001b[39m\u001b[38;5;241m>\u001b[39m Union[AgentFinish, List[Tuple[AgentAction, \u001b[38;5;28mstr\u001b[39m]]]:\n\u001b[1;32m   1137\u001b[0m     \u001b[38;5;28;01mreturn\u001b[39;00m \u001b[38;5;28mself\u001b[39m\u001b[38;5;241m.\u001b[39m_consume_next_step(\n\u001b[0;32m-> 1138\u001b[0m         [\n\u001b[1;32m   1139\u001b[0m             a\n\u001b[1;32m   1140\u001b[0m             \u001b[38;5;28;01mfor\u001b[39;00m a \u001b[38;5;129;01min\u001b[39;00m \u001b[38;5;28mself\u001b[39m\u001b[38;5;241m.\u001b[39m_iter_next_step(\n\u001b[1;32m   1141\u001b[0m                 name_to_tool_map,\n\u001b[1;32m   1142\u001b[0m                 color_mapping,\n\u001b[1;32m   1143\u001b[0m                 inputs,\n\u001b[1;32m   1144\u001b[0m                 intermediate_steps,\n\u001b[1;32m   1145\u001b[0m                 run_manager,\n\u001b[1;32m   1146\u001b[0m             )\n\u001b[1;32m   1147\u001b[0m         ]\n\u001b[1;32m   1148\u001b[0m     )\n",
      "File \u001b[0;32m~/anaconda3/lib/python3.11/site-packages/langchain/agents/agent.py:1223\u001b[0m, in \u001b[0;36mAgentExecutor._iter_next_step\u001b[0;34m(self, name_to_tool_map, color_mapping, inputs, intermediate_steps, run_manager)\u001b[0m\n\u001b[1;32m   1221\u001b[0m     \u001b[38;5;28;01myield\u001b[39;00m agent_action\n\u001b[1;32m   1222\u001b[0m \u001b[38;5;28;01mfor\u001b[39;00m agent_action \u001b[38;5;129;01min\u001b[39;00m actions:\n\u001b[0;32m-> 1223\u001b[0m     \u001b[38;5;28;01myield\u001b[39;00m \u001b[38;5;28mself\u001b[39m\u001b[38;5;241m.\u001b[39m_perform_agent_action(\n\u001b[1;32m   1224\u001b[0m         name_to_tool_map, color_mapping, agent_action, run_manager\n\u001b[1;32m   1225\u001b[0m     )\n",
      "File \u001b[0;32m~/anaconda3/lib/python3.11/site-packages/langchain/agents/agent.py:1245\u001b[0m, in \u001b[0;36mAgentExecutor._perform_agent_action\u001b[0;34m(self, name_to_tool_map, color_mapping, agent_action, run_manager)\u001b[0m\n\u001b[1;32m   1243\u001b[0m         tool_run_kwargs[\u001b[38;5;124m\"\u001b[39m\u001b[38;5;124mllm_prefix\u001b[39m\u001b[38;5;124m\"\u001b[39m] \u001b[38;5;241m=\u001b[39m \u001b[38;5;124m\"\u001b[39m\u001b[38;5;124m\"\u001b[39m\n\u001b[1;32m   1244\u001b[0m     \u001b[38;5;66;03m# We then call the tool on the tool input to get an observation\u001b[39;00m\n\u001b[0;32m-> 1245\u001b[0m     observation \u001b[38;5;241m=\u001b[39m tool\u001b[38;5;241m.\u001b[39mrun(\n\u001b[1;32m   1246\u001b[0m         agent_action\u001b[38;5;241m.\u001b[39mtool_input,\n\u001b[1;32m   1247\u001b[0m         verbose\u001b[38;5;241m=\u001b[39m\u001b[38;5;28mself\u001b[39m\u001b[38;5;241m.\u001b[39mverbose,\n\u001b[1;32m   1248\u001b[0m         color\u001b[38;5;241m=\u001b[39mcolor,\n\u001b[1;32m   1249\u001b[0m         callbacks\u001b[38;5;241m=\u001b[39mrun_manager\u001b[38;5;241m.\u001b[39mget_child() \u001b[38;5;28;01mif\u001b[39;00m run_manager \u001b[38;5;28;01melse\u001b[39;00m \u001b[38;5;28;01mNone\u001b[39;00m,\n\u001b[1;32m   1250\u001b[0m         \u001b[38;5;241m*\u001b[39m\u001b[38;5;241m*\u001b[39mtool_run_kwargs,\n\u001b[1;32m   1251\u001b[0m     )\n\u001b[1;32m   1252\u001b[0m \u001b[38;5;28;01melse\u001b[39;00m:\n\u001b[1;32m   1253\u001b[0m     tool_run_kwargs \u001b[38;5;241m=\u001b[39m \u001b[38;5;28mself\u001b[39m\u001b[38;5;241m.\u001b[39magent\u001b[38;5;241m.\u001b[39mtool_run_logging_kwargs()\n",
      "File \u001b[0;32m~/anaconda3/lib/python3.11/site-packages/langchain_core/tools.py:422\u001b[0m, in \u001b[0;36mBaseTool.run\u001b[0;34m(self, tool_input, verbose, start_color, color, callbacks, tags, metadata, run_name, run_id, **kwargs)\u001b[0m\n\u001b[1;32m    420\u001b[0m \u001b[38;5;28;01mexcept\u001b[39;00m (\u001b[38;5;167;01mException\u001b[39;00m, \u001b[38;5;167;01mKeyboardInterrupt\u001b[39;00m) \u001b[38;5;28;01mas\u001b[39;00m e:\n\u001b[1;32m    421\u001b[0m     run_manager\u001b[38;5;241m.\u001b[39mon_tool_error(e)\n\u001b[0;32m--> 422\u001b[0m     \u001b[38;5;28;01mraise\u001b[39;00m e\n\u001b[1;32m    423\u001b[0m \u001b[38;5;28;01melse\u001b[39;00m:\n\u001b[1;32m    424\u001b[0m     run_manager\u001b[38;5;241m.\u001b[39mon_tool_end(observation, color\u001b[38;5;241m=\u001b[39mcolor, name\u001b[38;5;241m=\u001b[39m\u001b[38;5;28mself\u001b[39m\u001b[38;5;241m.\u001b[39mname, \u001b[38;5;241m*\u001b[39m\u001b[38;5;241m*\u001b[39mkwargs)\n",
      "File \u001b[0;32m~/anaconda3/lib/python3.11/site-packages/langchain_core/tools.py:381\u001b[0m, in \u001b[0;36mBaseTool.run\u001b[0;34m(self, tool_input, verbose, start_color, color, callbacks, tags, metadata, run_name, run_id, **kwargs)\u001b[0m\n\u001b[1;32m    378\u001b[0m     parsed_input \u001b[38;5;241m=\u001b[39m \u001b[38;5;28mself\u001b[39m\u001b[38;5;241m.\u001b[39m_parse_input(tool_input)\n\u001b[1;32m    379\u001b[0m     tool_args, tool_kwargs \u001b[38;5;241m=\u001b[39m \u001b[38;5;28mself\u001b[39m\u001b[38;5;241m.\u001b[39m_to_args_and_kwargs(parsed_input)\n\u001b[1;32m    380\u001b[0m     observation \u001b[38;5;241m=\u001b[39m (\n\u001b[0;32m--> 381\u001b[0m         \u001b[38;5;28mself\u001b[39m\u001b[38;5;241m.\u001b[39m_run(\u001b[38;5;241m*\u001b[39mtool_args, run_manager\u001b[38;5;241m=\u001b[39mrun_manager, \u001b[38;5;241m*\u001b[39m\u001b[38;5;241m*\u001b[39mtool_kwargs)\n\u001b[1;32m    382\u001b[0m         \u001b[38;5;28;01mif\u001b[39;00m new_arg_supported\n\u001b[1;32m    383\u001b[0m         \u001b[38;5;28;01melse\u001b[39;00m \u001b[38;5;28mself\u001b[39m\u001b[38;5;241m.\u001b[39m_run(\u001b[38;5;241m*\u001b[39mtool_args, \u001b[38;5;241m*\u001b[39m\u001b[38;5;241m*\u001b[39mtool_kwargs)\n\u001b[1;32m    384\u001b[0m     )\n\u001b[1;32m    385\u001b[0m \u001b[38;5;28;01mexcept\u001b[39;00m ValidationError \u001b[38;5;28;01mas\u001b[39;00m e:\n\u001b[1;32m    386\u001b[0m     \u001b[38;5;28;01mif\u001b[39;00m \u001b[38;5;129;01mnot\u001b[39;00m \u001b[38;5;28mself\u001b[39m\u001b[38;5;241m.\u001b[39mhandle_validation_error:\n",
      "\u001b[0;31mTypeError\u001b[0m: WikipediaQueryRun._run() got an unexpected keyword argument 'search'"
     ]
    }
   ],
   "source": [
    "result = agent.invoke(\"What is the latest MacOS version name?\")"
   ]
  },
  {
   "cell_type": "markdown",
   "id": "feffd062-3c9d-4031-8d38-6527bac08917",
   "metadata": {},
   "source": [
    "# Coding using LLM\n",
    "- Write code using LLM and then run it as well"
   ]
  },
  {
   "cell_type": "code",
   "execution_count": 60,
   "id": "7a88f55f-1d4f-4d4d-afff-ebfb2fcd31e3",
   "metadata": {
    "tags": []
   },
   "outputs": [],
   "source": [
    "repl = PythonREPLTool()"
   ]
  },
  {
   "cell_type": "code",
   "execution_count": 70,
   "id": "4c6592c3-0c3f-44a1-a5e6-c0a24e14f560",
   "metadata": {
    "tags": []
   },
   "outputs": [
    {
     "name": "stdout",
     "output_type": "stream",
     "text": [
      "0\n",
      "1\n",
      "2\n",
      "3\n",
      "4\n",
      "\n"
     ]
    }
   ],
   "source": [
    "print(repl.invoke(\"```python \\\n",
    "for i in range(5):\\n \\\n",
    "    print(i)\\n \\\n",
    "```\"))"
   ]
  },
  {
   "cell_type": "code",
   "execution_count": 71,
   "id": "d99cc1f3-c32d-433d-8cbe-42ffb0be34b4",
   "metadata": {
    "tags": []
   },
   "outputs": [],
   "source": [
    "agent = create_python_agent(\n",
    "    llm, \n",
    "    tool = PythonREPLTool(),\n",
    "    verbose = True\n",
    ")"
   ]
  },
  {
   "cell_type": "code",
   "execution_count": 72,
   "id": "42726d8e-8451-469f-b6da-236f35b353fc",
   "metadata": {
    "tags": []
   },
   "outputs": [],
   "source": [
    "cust_list = [\n",
    "    ['Pushpak', 'Ruhil'],\n",
    "    ['Bharti', 'Ruhil'],\n",
    "    ['Aman', 'Antony'],\n",
    "    ['Zain', 'Antony'],\n",
    "    ['Chinmay', 'Tushir'],\n",
    "    ['Anoop', 'Udayan']\n",
    "]"
   ]
  },
  {
   "cell_type": "code",
   "execution_count": 80,
   "id": "eb75053a-08fa-42a0-bf0b-129cfb015055",
   "metadata": {
    "tags": []
   },
   "outputs": [
    {
     "name": "stdout",
     "output_type": "stream",
     "text": [
      "\n",
      "\n",
      "\u001b[1m> Entering new AgentExecutor chain...\u001b[0m\n",
      "\u001b[32;1m\u001b[1;3mAction: Python_REPL\n",
      "Action Input: print(sorted(customer_list, key=lambda x: (x[1], x[0])))\u001b[0m\n",
      "Observation: \u001b[36;1m\u001b[1;3m[['Aman', 'Antony'], ['Zain', 'Antony'], ['Bharti', 'Ruhil'], ['Pushpak', 'Ruhil'], ['Chinmay', 'Tushir'], ['Anoop', 'Udayan']]\n",
      "\u001b[0m\n",
      "Thought:\u001b[32;1m\u001b[1;3mFinal Answer: [['Aman', 'Antony'], ['Zain', 'Antony'], ['Bharti', 'Ruhil'], ['Pushpak', 'Ruhil'], ['Chinmay', 'Tushir'], ['Anoop', 'Udayan']]\u001b[0m\n",
      "\n",
      "\u001b[1m> Finished chain.\u001b[0m\n"
     ]
    },
    {
     "data": {
      "text/plain": [
       "{'input': \"sort the customers by the last name in ascending order and then the first name and print the output \\ncustomer_list = [['Pushpak', 'Ruhil'], ['Bharti', 'Ruhil'], ['Aman', 'Antony'], ['Zain', 'Antony'], ['Chinmay', 'Tushir'], ['Anoop', 'Udayan']]\\n\",\n",
       " 'output': \"[['Aman', 'Antony'], ['Zain', 'Antony'], ['Bharti', 'Ruhil'], ['Pushpak', 'Ruhil'], ['Chinmay', 'Tushir'], ['Anoop', 'Udayan']]\"}"
      ]
     },
     "execution_count": 80,
     "metadata": {},
     "output_type": "execute_result"
    }
   ],
   "source": [
    "agent.invoke(f\"\"\"sort the customers by \\\n",
    "the last name in ascending order and then the \\\n",
    "first name and print the output \\\n",
    "\n",
    "customer_list = {cust_list}\n",
    "\"\"\")\n"
   ]
  },
  {
   "cell_type": "markdown",
   "id": "df80941f-69d3-46cb-be8d-5d71d775bb66",
   "metadata": {},
   "source": [
    "# Defining Our Own Tools"
   ]
  },
  {
   "cell_type": "code",
   "execution_count": 83,
   "id": "09cbcdf9-efeb-4c83-84b7-e7202e8bdba9",
   "metadata": {
    "tags": []
   },
   "outputs": [],
   "source": [
    "from langchain.agents import tool\n",
    "from datetime import date\n",
    "\n",
    "# Doc string required for @tool\n",
    "\n",
    "@tool # Using a tool decorator to wrap the time function we define\n",
    "def time(text: str) -> str:\n",
    "    \"\"\"Returns todays date. \n",
    "    Use this for any question related to knowing today's date.\n",
    "    The input should always be an empty string and\n",
    "    this function will always return todays date - \n",
    "    any date mathematics should occur outside this function\n",
    "    \"\"\"\n",
    "    return str(date.today()) "
   ]
  },
  {
   "cell_type": "code",
   "execution_count": 88,
   "id": "93f92ab0-a9b7-4155-b8bd-e3706d88a075",
   "metadata": {
    "tags": []
   },
   "outputs": [],
   "source": [
    "agent = initialize_agent(\n",
    "    tools + [time],\n",
    "    llm,\n",
    "    agent = AgentType.CHAT_ZERO_SHOT_REACT_DESCRIPTION,\n",
    "    handle_parsing_errors = True,\n",
    "    verbose = True\n",
    ")"
   ]
  },
  {
   "cell_type": "code",
   "execution_count": 92,
   "id": "a85f6413-1883-449a-b6fb-101e585f4ff5",
   "metadata": {
    "tags": []
   },
   "outputs": [
    {
     "name": "stdout",
     "output_type": "stream",
     "text": [
      "\n",
      "\n",
      "\u001b[1m> Entering new AgentExecutor chain...\u001b[0m\n",
      "\u001b[32;1m\u001b[1;3mThought: I can use the time tool to get today's date\n",
      "Action:\n",
      "```\n",
      "{\n",
      "  \"action\": \"time\",\n",
      "  \"action_input\": \"\"\n",
      "}\n",
      "```\n",
      "\u001b[0m\n",
      "Observation: \u001b[38;5;200m\u001b[1;3m2024-03-30\u001b[0m\n",
      "Thought:\u001b[32;1m\u001b[1;3mFinal Answer: 2024-03-30\u001b[0m\n",
      "\n",
      "\u001b[1m> Finished chain.\u001b[0m\n"
     ]
    },
    {
     "data": {
      "text/plain": [
       "{'input': \"What is today's date?\", 'output': '2024-03-30'}"
      ]
     },
     "execution_count": 92,
     "metadata": {},
     "output_type": "execute_result"
    }
   ],
   "source": [
    "agent.invoke(\"What is today's date?\")"
   ]
  },
  {
   "cell_type": "code",
   "execution_count": null,
   "id": "9a684a95-e888-42d5-bb28-e70c39e69da4",
   "metadata": {},
   "outputs": [],
   "source": []
  }
 ],
 "metadata": {
  "kernelspec": {
   "display_name": "Python 3 (ipykernel)",
   "language": "python",
   "name": "python3"
  },
  "language_info": {
   "codemirror_mode": {
    "name": "ipython",
    "version": 3
   },
   "file_extension": ".py",
   "mimetype": "text/x-python",
   "name": "python",
   "nbconvert_exporter": "python",
   "pygments_lexer": "ipython3",
   "version": "3.11.5"
  }
 },
 "nbformat": 4,
 "nbformat_minor": 5
}
