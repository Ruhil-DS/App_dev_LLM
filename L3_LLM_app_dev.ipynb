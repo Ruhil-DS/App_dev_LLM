{
 "cells": [
  {
   "cell_type": "markdown",
   "id": "e68f3735-7221-44b9-a975-3254c529cac1",
   "metadata": {},
   "source": [
    "# LangChain : Chains\n",
    "## Outline\n",
    "\n",
    "* LLMChain\n",
    "* Sequential Chains\n",
    "  * SimpleSequentialChain\n",
    "  * SequentialChain\n",
    "* Router Chain"
   ]
  },
  {
   "cell_type": "markdown",
   "id": "c2a25eaf-b556-4e28-82af-b307746d81d0",
   "metadata": {},
   "source": [
    "# Initial Setup"
   ]
  },
  {
   "cell_type": "code",
   "execution_count": 2,
   "id": "efa9b219-59d1-4459-8d70-b7853ed95627",
   "metadata": {
    "tags": []
   },
   "outputs": [],
   "source": [
    "# API Key setup\n",
    "import os\n",
    "\n",
    "api = !cat ../`ls -a ../ | grep \"gemini\"`\n",
    "\n",
    "api = api[0]\n",
    "\n",
    "os.environ['GOOGLE_API_KEY'] = api\n",
    "# universal variable, used by langchain\n"
   ]
  },
  {
   "cell_type": "markdown",
   "id": "0d351d47-8f12-446f-83bb-5bf6b39b925f",
   "metadata": {
    "jp-MarkdownHeadingCollapsed": true,
    "tags": []
   },
   "source": [
    "## Testing Prior knowledge"
   ]
  },
  {
   "cell_type": "code",
   "execution_count": 47,
   "id": "55c6e7b4-bfb9-4028-8ad6-19d6edf4f8cc",
   "metadata": {
    "tags": []
   },
   "outputs": [],
   "source": [
    "from langchain_google_genai import ChatGoogleGenerativeAI\n",
    "\n",
    "chat = ChatGoogleGenerativeAI(model='gemini-pro', temperature=0.0)"
   ]
  },
  {
   "cell_type": "code",
   "execution_count": 55,
   "id": "f090c30f-125e-423b-a6cf-30014646708a",
   "metadata": {
    "tags": []
   },
   "outputs": [],
   "source": [
    "long_text = \"\"\"No matter how you best understand information, our products and tools help you find answers to your health questions.\n",
    "\n",
    "YouTube’s work to bring authoritative, health-related content to more people\n",
    "At YouTube, we are working to provide people with more access to quality health information and help creators reach more audiences. Our AI-powered dubbing tool, Aloud, streamlines the video translation and dubbing process at no cost, helping bridge that gap for creators. The tool has allowed institutions, such as Mass General Brigham, to dub first-aid videos from English into Spanish, providing potentially life-saving information to more people. Now they are expanding their efforts to include videos related to chronic conditions, like COPD and cancer.\n",
    "\n",
    "We are also working to break down language barriers to bring more helpful information to health professionals. Starting today, a new animation-style course on the Stanford Medicine Continuing Medical Education YouTube channel will be available in Spanish for free. The course, which helps health professionals recognize and address implicit bias in clinical practice to better advocate for patients from underrepresented and underserved communities, was translated and dubbed using Aloud and is bridging the language gap to ultimately reach more individuals with this crucial knowledge.\n",
    "\n",
    "Deeper health insights with Fitbit\n",
    "Fitbit synthesizes your personal health and fitness data so you can track it in the Fitbit app. Our team is now building personal AI features to bring even more tailored, personalized insights that you can explore based on your unique needs and preferences.\n",
    "\n",
    "Fitbit Labs, introduced last year, will give Premium users early access to experimental AI features to test out and give feedback on. Building on Google’s AI expertise, Fitbit Labs can help you get a fuller understanding of your health data and connect the dots across that information. You will be able to ask questions in a natural way and create charts just for you to help you understand your own data better. For example, you could dig deeper into how many active zone minutes \\(AZMs\\) you get and the correlation with how restorative your sleep is.\n",
    "\n",
    "Screenshot on a phone showing example fitness data\n",
    "An example of Fitbit Labs features that will be available later this year to a limited number of Android users who are enrolled in the Fitbit Labs program in the Fitbit mobile app.\n",
    "\n",
    "Fitbit and Google Research are working together with health and wellness experts, doctors and certified coaches to create a new model for health and wellness. This new Personal Health Large Language Model will power future AI features across our portfolio.\n",
    "\n",
    "\"\"\"\n",
    "\n",
    "template = \"\"\"Your job is to summarize the text delimited by the triple backticks. \\\n",
    "summarize and give the response in bullet points, if possible. \\\n",
    "\\\n",
    "text: ```{text}```\n",
    "\"\"\"\n",
    "\n"
   ]
  },
  {
   "cell_type": "code",
   "execution_count": 56,
   "id": "0d004a93-72ee-4d1c-afe9-bf38d2b608f2",
   "metadata": {
    "tags": []
   },
   "outputs": [],
   "source": [
    "from langchain.prompts import ChatPromptTemplate\n",
    "\n",
    "lc_template = ChatPromptTemplate.from_template(template)"
   ]
  },
  {
   "cell_type": "code",
   "execution_count": 57,
   "id": "c4913344-c5fc-4017-9c53-a2c91f19723d",
   "metadata": {
    "tags": []
   },
   "outputs": [],
   "source": [
    "input_prompt = lc_template.format_messages(text=long_text)"
   ]
  },
  {
   "cell_type": "code",
   "execution_count": 58,
   "id": "674137bc-3e9e-4838-ab11-0324b8f7cafe",
   "metadata": {
    "tags": []
   },
   "outputs": [],
   "source": [
    "resp = chat(input_prompt)"
   ]
  },
  {
   "cell_type": "code",
   "execution_count": 60,
   "id": "315d60f6-fc53-48cc-80a5-d809b0ae8052",
   "metadata": {
    "tags": []
   },
   "outputs": [
    {
     "name": "stdout",
     "output_type": "stream",
     "text": [
      "**YouTube's Health-Related Content Initiatives:**\n",
      "\n",
      "- AI-powered dubbing tool (Aloud) streamlines video translation and dubbing, making health information accessible in multiple languages.\n",
      "- Expansion of dubbed videos to include chronic conditions like COPD and cancer.\n",
      "- Free Spanish-language animation course on implicit bias in clinical practice, translated and dubbed using Aloud.\n",
      "\n",
      "**Fitbit's Health Insights:**\n",
      "\n",
      "- Fitbit synthesizes personal health and fitness data for tracking in the Fitbit app.\n",
      "- Development of personal AI features for tailored insights based on individual needs and preferences.\n",
      "- Fitbit Labs provides early access to experimental AI features for testing and feedback.\n",
      "- Collaboration with health experts to create a Personal Health Large Language Model for future AI features.\n"
     ]
    }
   ],
   "source": [
    "print(resp.content)"
   ]
  },
  {
   "cell_type": "code",
   "execution_count": 72,
   "id": "d02aac81-2ac3-468a-bd04-5afc369163fc",
   "metadata": {
    "tags": []
   },
   "outputs": [],
   "source": [
    "# Memory\n",
    "\n",
    "from langchain.memory import ConversationSummaryBufferMemory\n",
    "from langchain.chains import ConversationChain\n",
    "\n",
    "memory = ConversationSummaryBufferMemory(llm=chat, max_token_limit=100)\n",
    "\n",
    "convo_chain = ConversationChain(memory=memory, llm=chat)"
   ]
  },
  {
   "cell_type": "code",
   "execution_count": null,
   "id": "4962a185-8c1a-47f7-8911-676ad347f4f8",
   "metadata": {},
   "outputs": [],
   "source": []
  },
  {
   "cell_type": "code",
   "execution_count": null,
   "id": "6388034f-2428-4886-9e40-160f08b881da",
   "metadata": {
    "tags": []
   },
   "outputs": [],
   "source": [
    "# create a long string\n",
    "schedule = \"There is a meeting at 8am with your product team. \\\n",
    "You will need your powerpoint presentation prepared. \\\n",
    "9am-12pm have time to work on your LangChain \\\n",
    "project which will go quickly because Langchain is such a powerful tool. \\\n",
    "At Noon, lunch at the italian resturant with a customer who is driving \\\n",
    "from over an hour away to meet you to understand the latest in AI. \\\n",
    "Be sure to bring your laptop to show the latest LLM demo.\"\n",
    "\n",
    "memory.save_context({'input': \"hello\"}, {'output': \"hi, what's up?\"})\n",
    "memory.save_context({'input': \"What's on the schedule today?\"}, {'output': f\"{schedule}\"})"
   ]
  },
  {
   "cell_type": "code",
   "execution_count": 74,
   "id": "6ba57c21-8066-4813-87e0-0a750957058a",
   "metadata": {},
   "outputs": [
    {
     "data": {
      "text/plain": [
       "{'history': 'System: The human says hello to the AI and asks what is on the schedule for the day.\\nAI: There is a meeting at 8am with your product team. You will need your powerpoint presentation prepared. 9am-12pm have time to work on your LangChain project which will go quickly because Langchain is such a powerful tool. At Noon, lunch at the italian resturant with a customer who is driving from over an hour away to meet you to understand the latest in AI. Be sure to bring your laptop to show the latest LLM demo.'}"
      ]
     },
     "execution_count": 74,
     "metadata": {},
     "output_type": "execute_result"
    }
   ],
   "source": [
    "memory.load_memory_variables({})"
   ]
  },
  {
   "cell_type": "code",
   "execution_count": 77,
   "id": "f6d80e76-3feb-4a11-ba67-1928b93c787d",
   "metadata": {},
   "outputs": [
    {
     "data": {
      "text/plain": [
       "'8am'"
      ]
     },
     "execution_count": 77,
     "metadata": {},
     "output_type": "execute_result"
    }
   ],
   "source": [
    "convo_chain.predict(input=\"At what time is the meeting?\")"
   ]
  },
  {
   "cell_type": "markdown",
   "id": "2aa047b1-f516-4cc9-bb74-26775f9151ff",
   "metadata": {},
   "source": [
    "- Similarly, other memory buffers can be used too"
   ]
  },
  {
   "cell_type": "markdown",
   "id": "722f6313-394d-4ef9-a1e5-9982240974f8",
   "metadata": {},
   "source": [
    "# LLMChain"
   ]
  },
  {
   "cell_type": "code",
   "execution_count": null,
   "id": "0af53835-3756-4b42-8efe-4682c2e06410",
   "metadata": {},
   "outputs": [],
   "source": []
  }
 ],
 "metadata": {
  "kernelspec": {
   "display_name": "Python 3 (ipykernel)",
   "language": "python",
   "name": "python3"
  },
  "language_info": {
   "codemirror_mode": {
    "name": "ipython",
    "version": 3
   },
   "file_extension": ".py",
   "mimetype": "text/x-python",
   "name": "python",
   "nbconvert_exporter": "python",
   "pygments_lexer": "ipython3",
   "version": "3.11.5"
  }
 },
 "nbformat": 4,
 "nbformat_minor": 5
}
